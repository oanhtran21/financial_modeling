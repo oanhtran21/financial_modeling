{
  "nbformat": 4,
  "nbformat_minor": 0,
  "metadata": {
    "colab": {
      "provenance": [],
      "machine_shape": "hm"
    },
    "kernelspec": {
      "name": "python3",
      "display_name": "Python 3"
    },
    "language_info": {
      "name": "python"
    },
    "gpuClass": "standard"
  },
  "cells": [
    {
      "cell_type": "markdown",
      "source": [
        "## I. Libraries"
      ],
      "metadata": {
        "id": "4dYge_5R9hbL"
      }
    },
    {
      "cell_type": "code",
      "source": [
        "import numpy as np\n",
        "from scipy.linalg import toeplitz\n",
        "import matplotlib.pyplot as plt"
      ],
      "metadata": {
        "id": "KzdfhnNY918M"
      },
      "execution_count": null,
      "outputs": []
    },
    {
      "cell_type": "code",
      "source": [
        "import pandas as pd"
      ],
      "metadata": {
        "id": "DwBkKh5zPMgx"
      },
      "execution_count": null,
      "outputs": []
    },
    {
      "cell_type": "code",
      "source": [
        "pip install py_vollib"
      ],
      "metadata": {
        "id": "V7sfuUmcJoa-",
        "colab": {
          "base_uri": "https://localhost:8080/"
        },
        "outputId": "7643f2af-e06b-43de-b1f8-50416ae00460"
      },
      "execution_count": null,
      "outputs": [
        {
          "output_type": "stream",
          "name": "stdout",
          "text": [
            "Looking in indexes: https://pypi.org/simple, https://us-python.pkg.dev/colab-wheels/public/simple/\n",
            "Collecting py_vollib\n",
            "  Downloading py_vollib-1.0.1.tar.gz (19 kB)\n",
            "Collecting py_lets_be_rational\n",
            "  Downloading py_lets_be_rational-1.0.1.tar.gz (18 kB)\n",
            "Collecting simplejson\n",
            "  Downloading simplejson-3.18.0-cp37-cp37m-manylinux_2_5_x86_64.manylinux1_x86_64.manylinux_2_12_x86_64.manylinux2010_x86_64.whl (130 kB)\n",
            "\u001b[K     |████████████████████████████████| 130 kB 21.6 MB/s \n",
            "\u001b[?25hRequirement already satisfied: numpy in /usr/local/lib/python3.7/dist-packages (from py_vollib) (1.21.6)\n",
            "Requirement already satisfied: pandas in /usr/local/lib/python3.7/dist-packages (from py_vollib) (1.3.5)\n",
            "Requirement already satisfied: scipy in /usr/local/lib/python3.7/dist-packages (from py_vollib) (1.7.3)\n",
            "Requirement already satisfied: pytz>=2017.3 in /usr/local/lib/python3.7/dist-packages (from pandas->py_vollib) (2022.6)\n",
            "Requirement already satisfied: python-dateutil>=2.7.3 in /usr/local/lib/python3.7/dist-packages (from pandas->py_vollib) (2.8.2)\n",
            "Requirement already satisfied: six>=1.5 in /usr/local/lib/python3.7/dist-packages (from python-dateutil>=2.7.3->pandas->py_vollib) (1.15.0)\n",
            "Building wheels for collected packages: py-vollib, py-lets-be-rational\n",
            "  Building wheel for py-vollib (setup.py) ... \u001b[?25l\u001b[?25hdone\n",
            "  Created wheel for py-vollib: filename=py_vollib-1.0.1-py3-none-any.whl size=62855 sha256=14e6403a83f4874e33d86d2c4be5dda8cb147b280d2f947993019a1bd09d0171\n",
            "  Stored in directory: /root/.cache/pip/wheels/2d/25/50/bc80b93c9a827ed9bef9d86f85365e1934bcbc0666b9f00c11\n",
            "  Building wheel for py-lets-be-rational (setup.py) ... \u001b[?25l\u001b[?25hdone\n",
            "  Created wheel for py-lets-be-rational: filename=py_lets_be_rational-1.0.1-py3-none-any.whl size=24470 sha256=6fa997ed12a3400e4b196f4f46c869b4e2861b51afa77333b0d770051dfd8e46\n",
            "  Stored in directory: /root/.cache/pip/wheels/1a/70/10/bf54a16badc528594c9510ef517badb765a29b651ea5652898\n",
            "Successfully built py-vollib py-lets-be-rational\n",
            "Installing collected packages: simplejson, py-lets-be-rational, py-vollib\n",
            "Successfully installed py-lets-be-rational-1.0.1 py-vollib-1.0.1 simplejson-3.18.0\n"
          ]
        }
      ]
    },
    {
      "cell_type": "code",
      "source": [
        "import py_vollib.black_scholes as bs"
      ],
      "metadata": {
        "id": "ITFcA_JMIeC-"
      },
      "execution_count": null,
      "outputs": []
    },
    {
      "cell_type": "markdown",
      "source": [
        "## II. Find Numerical Approximation"
      ],
      "metadata": {
        "id": "CUPK8WZS92dc"
      }
    },
    {
      "cell_type": "markdown",
      "source": [
        "### (a) Using Fully Implicit Method"
      ],
      "metadata": {
        "id": "keVxhZR6HMm8"
      }
    },
    {
      "cell_type": "markdown",
      "source": [
        "Suppose that\n",
        "\n",
        "$V(S, t)$ gives the value of the option at time t given that $S_t = S$\n",
        "\n",
        "Let $x = log(S)$, we get a function $f(x, t)$ which gives the same result as $V(S, t)$ but takes different input. That is to say the approximation of $f(.)$ is also the approximation of $V(.)$\n",
        "\n",
        "The following function approximates $f(x, t)$ by _fully implicit discretization method_"
      ],
      "metadata": {
        "id": "CaCxGXvDCHOe"
      }
    },
    {
      "cell_type": "code",
      "source": [
        "def fully_implicit_approx(S0 = 100, K = 100, r = 0.02, T = 1, sigma = 0.15, N = 1000, M = 1000,\n",
        "                          getf = False):\n",
        "    \"\"\"\n",
        "    This function use fully implicit method to approximate the price of an option \n",
        "    given parameters to Black-Scholes pricing formula.\n",
        "    \n",
        "    Arguments:\n",
        "     - Parameters for Black-Scholes formula (S0, K, sigma, r, T)\n",
        "     - Parameters for implicit discretization:\n",
        "         +) N [int] number of subintervals in log-price (x_T = log(S_T)) domain\n",
        "         +) M [int] number of subintervals in time domain\n",
        "    - Others:\n",
        "         +) getF [bool] whether to get the result grid of approximation of (modified) BS PDE\n",
        "    \n",
        "    Return:\n",
        "    - f_S0 [float] Price of the option at given S0 and other BS parameters\n",
        "    - (Optional) f [matrix] The approximations of BS PDE in the grid\n",
        "    \n",
        "    \"\"\"\n",
        "\n",
        "    #------------(1) Discretize the domains------------\n",
        "    # Time domain\n",
        "    Ti, dt = np.linspace(0, T, M, retstep = True)\n",
        "    # Log-price domain\n",
        "    x_min = np.log(K/3)\n",
        "    x_max = np.log(3*K)\n",
        "    x, dx = np.linspace(x_min, x_max, N, retstep = True)\n",
        "\n",
        "    \n",
        "    #------------(2) Initialize the approximation grid F ------\n",
        "    f = np.zeros((N, M))\n",
        "    #----------- By the terminal condition: F(S, t = T) = payoff given S\n",
        "    payoff_at_T = np.maximum(K - np.exp(x), 0)\n",
        "    f[:, -1] = payoff_at_T\n",
        "\n",
        "    #----------- By the boundary condition (1) F(S = Smin, t) = payoff given S = Smin at time t\n",
        "    f[0, :] = K*np.exp(-r*Ti[::-1]) - np.exp(x_min)\n",
        "    #----------- By the boundary condition (2) F(S = Smax, t) = payoff given S = Smax at time t\n",
        "    f[-1, :] = 0\n",
        "\n",
        "\n",
        "    #------------(3) Construct coefficient matrix A-------------\n",
        "    sig2 = sigma**2\n",
        "    dxx = dx * dx\n",
        "\n",
        "    a = ( (dt/2) * ( (r-0.5*sig2)/dx - sig2/dxx ) )\n",
        "    b = ( 1 + dt * ( sig2/dxx + r ) )\n",
        "    c = (-(dt/2) * ( (r-0.5*sig2)/dx + sig2/dxx ) )\n",
        "\n",
        "    col_0 = np.concatenate([[b, a],\n",
        "                            np.zeros(N-2-2)])\n",
        "    row_0 = np.concatenate([[b, c],\n",
        "                            np.zeros(N-2-2)])\n",
        "    \n",
        "    A = toeplitz(col_0, row_0)\n",
        "\n",
        "    #------------(4) Initialize the column vector g----------\n",
        "    g = np.zeros(N-2)\n",
        "\n",
        "    #------------(5) Solve for F by backward approximation\n",
        "    for j in range(M-2, -1, -1):\n",
        "      g[0] = a*f[0, j]\n",
        "      g[-1] = c*f[-1, j]\n",
        "      f[1:-1, j] = np.linalg.solve(A, f[1:-1, j+1] - g)\n",
        "    #------------(6) Calculate the price at the given S0--------\n",
        "    # Since we have obtained the approximation grid, we can use the\n",
        "    # result of approximated option price at time t = 0 as base points\n",
        "    # to interpolate the price of option at given S0\n",
        "    x0 = np.log(S0) \n",
        "    f_x0 = np.interp(x0, x, f[:,0])\n",
        "\n",
        "    if getf:\n",
        "      return f_x0, f \n",
        "    \n",
        "    return f_x0"
      ],
      "metadata": {
        "id": "1c9Q93Tq97AX"
      },
      "execution_count": null,
      "outputs": []
    },
    {
      "cell_type": "markdown",
      "source": [
        "### (b) Using the Crank Nicolson Method"
      ],
      "metadata": {
        "id": "X3ItXtH2hSSL"
      }
    },
    {
      "cell_type": "code",
      "source": [
        "def crank_nicolson_approx(S0 = 100, K = 100, r = 0.02, T = 1, sigma = 0.15, N = 1000, M = 1000,\n",
        "                          getf = False):\n",
        "  \n",
        "  Ti, dt = np.linspace(0, T, N+1, retstep = True)\n",
        "\n",
        "  x_min = np.log(K/3)\n",
        "  x_max = np.log(3*K)\n",
        "  x, dx = np.linspace(x_min, x_max, M+1, retstep = True)\n",
        "\n",
        "  f = np.zeros((M+1,N+1))\n",
        "  payoff_at_T = np.maximum(K - np.exp(x), 0)\n",
        "  f[:,-1] = payoff_at_T\n",
        "\n",
        "  f[0,:] = (K*np.exp(-r*Ti[::-1]) - np.exp(x_min))\n",
        "  f[-1,:] = 0\n",
        "\n",
        "  sig2 = sigma**2\n",
        "\n",
        "  j = np.arange(0, M+1)\n",
        "\n",
        "  a = (dt/4) * (sig2*j**2 - 0.02*j)\n",
        "  b = (-dt/2) * (sig2*j**2 + 0.02)\n",
        "  c = (dt/4) * (sig2*j**2 + 0.02*j) \n",
        "\n",
        "  b_from1 = 1 - b\n",
        "  b_plus1 = 1 + b\n",
        "\n",
        "  C = -np.diag(a[2:M], -1) + np.diag(b_from1[1:M]) - np.diag(c[1:M-1],1)\n",
        "  D = np.diag(a[2:M], -1) + np.diag(b_plus1[1:M]) + np.diag(c[1:M-1],1)\n",
        "\n",
        "  Ki = np.zeros(999)\n",
        "  Kip1 = np.zeros(999)\n",
        "\n",
        "  for i in range(N-1, -1, -1):\n",
        "    Ki[0] = a[1] * f[0,i]\n",
        "    Ki[-1] = c[-2] * f[-1, i]\n",
        "    \n",
        "    Kip1[0] = a[1] * f[0,i+1]\n",
        "    Kip1[-1] = c[-2] * f[-1, i + 1]\n",
        "    \n",
        "    f[1:-1, i] = np.linalg.solve(C, np.matmul(D, f[1:-1, i+1]) + Ki + Kip1)\n",
        "\n",
        "  x0 = np.log(S0) \n",
        "  f_x0 = np.interp(x0, x, f[:,0])\n",
        "\n",
        "  return f_x0"
      ],
      "metadata": {
        "id": "OUecnbyaheV-"
      },
      "execution_count": null,
      "outputs": []
    },
    {
      "cell_type": "markdown",
      "source": [
        "## III. Compare with the values obtained by Black-Scholes pricing formula"
      ],
      "metadata": {
        "id": "WAXeKlrZGzqa"
      }
    },
    {
      "cell_type": "markdown",
      "source": [
        "### (1) Prices obtained by approximation"
      ],
      "metadata": {
        "id": "g9k3nLbNHubU"
      }
    },
    {
      "cell_type": "markdown",
      "source": [
        "#### a. Fully Implicit"
      ],
      "metadata": {
        "id": "Iz4O9adTH-3k"
      }
    },
    {
      "cell_type": "markdown",
      "source": [],
      "metadata": {
        "id": "gIzS5QfIG8nR"
      }
    },
    {
      "cell_type": "code",
      "source": [
        "K = np.arange(60, 141, 10)\n",
        "K"
      ],
      "metadata": {
        "colab": {
          "base_uri": "https://localhost:8080/"
        },
        "id": "S9AaHiV2EEpq",
        "outputId": "91924c57-c4c9-4d6a-bde6-4c59bd789f10"
      },
      "execution_count": null,
      "outputs": [
        {
          "output_type": "execute_result",
          "data": {
            "text/plain": [
              "array([ 60,  70,  80,  90, 100, 110, 120, 130, 140])"
            ]
          },
          "metadata": {},
          "execution_count": 6
        }
      ]
    },
    {
      "cell_type": "code",
      "source": [
        "sigma = np.array([0.15, 0.30, 0.50])\n",
        "sigma"
      ],
      "metadata": {
        "colab": {
          "base_uri": "https://localhost:8080/"
        },
        "id": "4Pcj82tfEblq",
        "outputId": "798b49bd-9b25-4416-d947-11931a75820e"
      },
      "execution_count": null,
      "outputs": [
        {
          "output_type": "execute_result",
          "data": {
            "text/plain": [
              "array([0.15, 0.3 , 0.5 ])"
            ]
          },
          "metadata": {},
          "execution_count": 7
        }
      ]
    },
    {
      "cell_type": "code",
      "source": [
        "f_FI = np.zeros((K.shape[0], sigma.shape[0]))\n",
        "n_K = K.shape[0]\n",
        "n_sigma = sigma.shape[0]\n",
        "for i in range(n_K):\n",
        "  for j in range(n_sigma):\n",
        "    f_FI[i, j] = fully_implicit_approx(S0 = 100, K = K[i], r = 0.02,\n",
        "                                              T = 1, sigma = sigma[j])"
      ],
      "metadata": {
        "id": "GyUha6cqEhMe"
      },
      "execution_count": null,
      "outputs": []
    },
    {
      "cell_type": "code",
      "source": [
        "f_FI"
      ],
      "metadata": {
        "colab": {
          "base_uri": "https://localhost:8080/"
        },
        "id": "dUB-PNpGLbMa",
        "outputId": "490fe2a8-ca6f-46a2-bb3f-c94439d067b2"
      },
      "execution_count": null,
      "outputs": [
        {
          "output_type": "execute_result",
          "data": {
            "text/plain": [
              "array([[5.86184135e-04, 3.51964512e-01, 2.77658519e+00],\n",
              "       [2.41169407e-02, 1.23312898e+00, 5.30244922e+00],\n",
              "       [2.93346088e-01, 3.11348585e+00, 8.80432660e+00],\n",
              "       [1.58655221e+00, 6.28575002e+00, 1.32526938e+01],\n",
              "       [4.98109901e+00, 1.08399650e+01, 1.85683392e+01],\n",
              "       [1.08881149e+01, 1.66846915e+01, 2.46488161e+01],\n",
              "       [1.87784888e+01, 2.36206328e+01, 3.13860443e+01],\n",
              "       [2.78048364e+01, 3.14136117e+01, 3.86766493e+01],\n",
              "       [3.73386411e+01, 3.98435645e+01, 4.64273524e+01]])"
            ]
          },
          "metadata": {},
          "execution_count": 13
        }
      ]
    },
    {
      "cell_type": "markdown",
      "source": [
        "#### b. Crank-Nicolson"
      ],
      "metadata": {
        "id": "1CZGwKmmQ4Lp"
      }
    },
    {
      "cell_type": "code",
      "source": [
        "f_CN = np.zeros((K.shape[0], sigma.shape[0]))\n",
        "n_K = K.shape[0]\n",
        "n_sigma = sigma.shape[0]\n",
        "for i in range(n_K):\n",
        "  for j in range(n_sigma):\n",
        "    f_CN[i, j] = crank_nicolson_approx(S0 = 100, K = K[i], r = 0.02,\n",
        "                                              T = 1, sigma = sigma[j])"
      ],
      "metadata": {
        "id": "Snv2qPkoRAZN"
      },
      "execution_count": null,
      "outputs": []
    },
    {
      "cell_type": "code",
      "source": [
        "f_CN"
      ],
      "metadata": {
        "colab": {
          "base_uri": "https://localhost:8080/"
        },
        "id": "_aZQB2Y-RAIh",
        "outputId": "657bbe01-81bd-46f1-e96d-e174da3718ed"
      },
      "execution_count": null,
      "outputs": [
        {
          "output_type": "execute_result",
          "data": {
            "text/plain": [
              "array([[1.28513761e-02, 8.78589194e-01, 3.57829734e+00],\n",
              "       [1.03652458e-01, 1.91305230e+00, 5.77964966e+00],\n",
              "       [5.31315078e-01, 3.66917007e+00, 8.58257309e+00],\n",
              "       [1.89370625e+00, 6.37105936e+00, 1.20552119e+01],\n",
              "       [5.02242370e+00, 1.02002279e+01, 1.62492468e+01],\n",
              "       [1.04879799e+01, 1.52604524e+01, 2.11976843e+01],\n",
              "       [1.81462186e+01, 2.15558545e+01, 2.69131348e+01],\n",
              "       [2.72644511e+01, 2.89898495e+01, 3.33872119e+01],\n",
              "       [3.70601040e+01, 3.73836521e+01, 4.05899435e+01]])"
            ]
          },
          "metadata": {},
          "execution_count": 31
        }
      ]
    },
    {
      "cell_type": "markdown",
      "source": [
        "### (2) Price obtained by Black-Scholes formula"
      ],
      "metadata": {
        "id": "tSnfctb0H4Ta"
      }
    },
    {
      "cell_type": "code",
      "source": [
        "import numpy as np\n",
        "from scipy.stats import norm\n",
        "\n",
        "\n",
        "K = np.arange(60, 141, 10)\n",
        "r = 0.02\n",
        "T = 1\n",
        "sigma = np.array([0.15, 0.30, 0.50])\n",
        "S = 100\n",
        "\n",
        "\n",
        "N = norm.cdf\n",
        "\n",
        "\n",
        "def BS_PUT(S, K, T, r, sigma):\n",
        "    d1 = (np.log(S/K) + (r + sigma**2/2)*T) / (sigma*np.sqrt(T))\n",
        "    d2 = d1 - sigma* np.sqrt(T)\n",
        "    return K*np.exp(-r*T)*N(-d2) - S*N(-d1)\n",
        "\n",
        "\n",
        "f_BS = np.zeros((n_K, n_sigma))\n",
        "for i in range(n_K):\n",
        "  for j in range(n_sigma):\n",
        "    f_BS[i, j] = BS_PUT(S = 100, K = K[i], r = 0.02,\n",
        "                        T = 1, sigma = sigma[j])\n",
        "\n",
        "\n",
        "\n"
      ],
      "metadata": {
        "id": "Cki-j8tnFNC3"
      },
      "execution_count": null,
      "outputs": []
    },
    {
      "cell_type": "code",
      "source": [
        "f_BS"
      ],
      "metadata": {
        "id": "MMPFd9JcLlQn",
        "colab": {
          "base_uri": "https://localhost:8080/"
        },
        "outputId": "06813f7e-22d6-49c9-b2c5-8a7b85ef4b0d"
      },
      "execution_count": null,
      "outputs": [
        {
          "output_type": "execute_result",
          "data": {
            "text/plain": [
              "array([[5.74590578e-04, 3.51561496e-01, 2.78015191e+00],\n",
              "       [2.39970947e-02, 1.23298237e+00, 5.30450841e+00],\n",
              "       [2.93175413e-01, 3.11403723e+00, 8.80649070e+00],\n",
              "       [1.58680137e+00, 6.28694286e+00, 1.32551910e+01],\n",
              "       [4.98170898e+00, 1.08414487e+01, 1.85710581e+01],\n",
              "       [1.08883216e+01, 1.66860100e+01, 2.46515749e+01],\n",
              "       [1.87780172e+01, 2.36214130e+01, 3.13887109e+01],\n",
              "       [2.78041895e+01, 3.14137708e+01, 3.86792686e+01],\n",
              "       [3.73381813e+01, 3.98431635e+01, 4.64301480e+01]])"
            ]
          },
          "metadata": {},
          "execution_count": 26
        }
      ]
    },
    {
      "cell_type": "markdown",
      "source": [
        "### (3) Compare"
      ],
      "metadata": {
        "id": "f18gb7d9CBnd"
      }
    },
    {
      "cell_type": "code",
      "source": [
        "fig = plt.figure(figsize = (18, 6))\n",
        "fig.suptitle('Option Price by 3 Methods', size = 16)\n",
        "for i in range(n_sigma):\n",
        "  ax = fig.add_subplot(1, 3, i+1)\n",
        "  ax.set_title(f'sigma = {sigma[i]}')\n",
        "\n",
        "  ax.set_xlabel('Strike Price')\n",
        "  ax.set_ylabel('Option Price')\n",
        "\n",
        "  ax.plot(K, f_FI[:,i], label = 'Fully implicit', lw = 3, color = '#31F10E')\n",
        "  ax.plot(K, f_CN[:,i], label = 'Crank-Nicolson', color = '#128295')\n",
        "  ax.plot(K, f_BS[:,i], label = 'Black-Scholes', color = '#8E0FA4', linestyle = '--')\n",
        "  ax.grid(True, alpha = 0.5)\n",
        "  ax.legend()\n",
        "\n",
        "\n",
        "\n",
        "plt.show()"
      ],
      "metadata": {
        "colab": {
          "base_uri": "https://localhost:8080/",
          "height": 431
        },
        "id": "r0XWRNJtCErR",
        "outputId": "55bc39e8-2a1d-4645-8f43-faa95275c5a6"
      },
      "execution_count": null,
      "outputs": [
        {
          "output_type": "display_data",
          "data": {
            "text/plain": [
              "<Figure size 1296x432 with 3 Axes>"
            ],
            "image/png": "[encoded data removed]"
          },
          "metadata": {
            "needs_background": "light"
          }
        }
      ]
    },
    {
      "cell_type": "code",
      "source": [
        "index1 = np.concatenate([np.full(n_K, sigma[0]),\n",
        "                         np.full(n_K, sigma[1]),\n",
        "                         np.full(n_K, sigma[2])])\n",
        "index2 = np.concatenate([K, K, K])"
      ],
      "metadata": {
        "id": "oHC6YfvpNg_2"
      },
      "execution_count": null,
      "outputs": []
    },
    {
      "cell_type": "code",
      "source": [
        "pd.DataFrame({'Black-Scholes': f_BS.flatten('F'),\n",
        "              'Fully Implicit': f_FI.flatten('F'),\n",
        "              'Crank_Nicolson': f_CN.flatten('F')},\n",
        "             index = [index1, index2])"
      ],
      "metadata": {
        "colab": {
          "base_uri": "https://localhost:8080/",
          "height": 896
        },
        "id": "edCaeAA1PA0L",
        "outputId": "74a3393a-3c12-45b6-ea11-c1f2bdc02faf"
      },
      "execution_count": null,
      "outputs": [
        {
          "output_type": "execute_result",
          "data": {
            "text/plain": [
              "          Black-Scholes  Fully Implicit  Crank_Nicolson\n",
              "0.15 60        0.000575        0.000586        0.012851\n",
              "     70        0.023997        0.024117        0.103652\n",
              "     80        0.293175        0.293346        0.531315\n",
              "     90        1.586801        1.586552        1.893706\n",
              "     100       4.981709        4.981099        5.022424\n",
              "     110      10.888322       10.888115       10.487980\n",
              "     120      18.778017       18.778489       18.146219\n",
              "     130      27.804190       27.804836       27.264451\n",
              "     140      37.338181       37.338641       37.060104\n",
              "0.30 60        0.351561        0.351965        0.878589\n",
              "     70        1.232982        1.233129        1.913052\n",
              "     80        3.114037        3.113486        3.669170\n",
              "     90        6.286943        6.285750        6.371059\n",
              "     100      10.841449       10.839965       10.200228\n",
              "     110      16.686010       16.684691       15.260452\n",
              "     120      23.621413       23.620633       21.555855\n",
              "     130      31.413771       31.413612       28.989850\n",
              "     140      39.843163       39.843565       37.383652\n",
              "0.50 60        2.780152        2.776585        3.578297\n",
              "     70        5.304508        5.302449        5.779650\n",
              "     80        8.806491        8.804327        8.582573\n",
              "     90       13.255191       13.252694       12.055212\n",
              "     100      18.571058       18.568339       16.249247\n",
              "     110      24.651575       24.648816       21.197684\n",
              "     120      31.388711       31.386044       26.913135\n",
              "     130      38.679269       38.676649       33.387212\n",
              "     140      46.430148       46.427352       40.589943"
            ],
            "text/html": [
              "\n",
              "  <div id=\"df-4341d942-33ae-48a1-b3a1-618a09b0cf7f\">\n",
              "    <div class=\"colab-df-container\">\n",
              "      <div>\n",
              "<style scoped>\n",
              "    .dataframe tbody tr th:only-of-type {\n",
              "        vertical-align: middle;\n",
              "    }\n",
              "\n",
              "    .dataframe tbody tr th {\n",
              "        vertical-align: top;\n",
              "    }\n",
              "\n",
              "    .dataframe thead th {\n",
              "        text-align: right;\n",
              "    }\n",
              "</style>\n",
              "<table border=\"1\" class=\"dataframe\">\n",
              "  <thead>\n",
              "    <tr style=\"text-align: right;\">\n",
              "      <th></th>\n",
              "      <th></th>\n",
              "      <th>Black-Scholes</th>\n",
              "      <th>Fully Implicit</th>\n",
              "      <th>Crank_Nicolson</th>\n",
              "    </tr>\n",
              "  </thead>\n",
              "  <tbody>\n",
              "    <tr>\n",
              "      <th rowspan=\"9\" valign=\"top\">0.15</th>\n",
              "      <th>60</th>\n",
              "      <td>0.000575</td>\n",
              "      <td>0.000586</td>\n",
              "      <td>0.012851</td>\n",
              "    </tr>\n",
              "    <tr>\n",
              "      <th>70</th>\n",
              "      <td>0.023997</td>\n",
              "      <td>0.024117</td>\n",
              "      <td>0.103652</td>\n",
              "    </tr>\n",
              "    <tr>\n",
              "      <th>80</th>\n",
              "      <td>0.293175</td>\n",
              "      <td>0.293346</td>\n",
              "      <td>0.531315</td>\n",
              "    </tr>\n",
              "    <tr>\n",
              "      <th>90</th>\n",
              "      <td>1.586801</td>\n",
              "      <td>1.586552</td>\n",
              "      <td>1.893706</td>\n",
              "    </tr>\n",
              "    <tr>\n",
              "      <th>100</th>\n",
              "      <td>4.981709</td>\n",
              "      <td>4.981099</td>\n",
              "      <td>5.022424</td>\n",
              "    </tr>\n",
              "    <tr>\n",
              "      <th>110</th>\n",
              "      <td>10.888322</td>\n",
              "      <td>10.888115</td>\n",
              "      <td>10.487980</td>\n",
              "    </tr>\n",
              "    <tr>\n",
              "      <th>120</th>\n",
              "      <td>18.778017</td>\n",
              "      <td>18.778489</td>\n",
              "      <td>18.146219</td>\n",
              "    </tr>\n",
              "    <tr>\n",
              "      <th>130</th>\n",
              "      <td>27.804190</td>\n",
              "      <td>27.804836</td>\n",
              "      <td>27.264451</td>\n",
              "    </tr>\n",
              "    <tr>\n",
              "      <th>140</th>\n",
              "      <td>37.338181</td>\n",
              "      <td>37.338641</td>\n",
              "      <td>37.060104</td>\n",
              "    </tr>\n",
              "    <tr>\n",
              "      <th rowspan=\"9\" valign=\"top\">0.30</th>\n",
              "      <th>60</th>\n",
              "      <td>0.351561</td>\n",
              "      <td>0.351965</td>\n",
              "      <td>0.878589</td>\n",
              "    </tr>\n",
              "    <tr>\n",
              "      <th>70</th>\n",
              "      <td>1.232982</td>\n",
              "      <td>1.233129</td>\n",
              "      <td>1.913052</td>\n",
              "    </tr>\n",
              "    <tr>\n",
              "      <th>80</th>\n",
              "      <td>3.114037</td>\n",
              "      <td>3.113486</td>\n",
              "      <td>3.669170</td>\n",
              "    </tr>\n",
              "    <tr>\n",
              "      <th>90</th>\n",
              "      <td>6.286943</td>\n",
              "      <td>6.285750</td>\n",
              "      <td>6.371059</td>\n",
              "    </tr>\n",
              "    <tr>\n",
              "      <th>100</th>\n",
              "      <td>10.841449</td>\n",
              "      <td>10.839965</td>\n",
              "      <td>10.200228</td>\n",
              "    </tr>\n",
              "    <tr>\n",
              "      <th>110</th>\n",
              "      <td>16.686010</td>\n",
              "      <td>16.684691</td>\n",
              "      <td>15.260452</td>\n",
              "    </tr>\n",
              "    <tr>\n",
              "      <th>120</th>\n",
              "      <td>23.621413</td>\n",
              "      <td>23.620633</td>\n",
              "      <td>21.555855</td>\n",
              "    </tr>\n",
              "    <tr>\n",
              "      <th>130</th>\n",
              "      <td>31.413771</td>\n",
              "      <td>31.413612</td>\n",
              "      <td>28.989850</td>\n",
              "    </tr>\n",
              "    <tr>\n",
              "      <th>140</th>\n",
              "      <td>39.843163</td>\n",
              "      <td>39.843565</td>\n",
              "      <td>37.383652</td>\n",
              "    </tr>\n",
              "    <tr>\n",
              "      <th rowspan=\"9\" valign=\"top\">0.50</th>\n",
              "      <th>60</th>\n",
              "      <td>2.780152</td>\n",
              "      <td>2.776585</td>\n",
              "      <td>3.578297</td>\n",
              "    </tr>\n",
              "    <tr>\n",
              "      <th>70</th>\n",
              "      <td>5.304508</td>\n",
              "      <td>5.302449</td>\n",
              "      <td>5.779650</td>\n",
              "    </tr>\n",
              "    <tr>\n",
              "      <th>80</th>\n",
              "      <td>8.806491</td>\n",
              "      <td>8.804327</td>\n",
              "      <td>8.582573</td>\n",
              "    </tr>\n",
              "    <tr>\n",
              "      <th>90</th>\n",
              "      <td>13.255191</td>\n",
              "      <td>13.252694</td>\n",
              "      <td>12.055212</td>\n",
              "    </tr>\n",
              "    <tr>\n",
              "      <th>100</th>\n",
              "      <td>18.571058</td>\n",
              "      <td>18.568339</td>\n",
              "      <td>16.249247</td>\n",
              "    </tr>\n",
              "    <tr>\n",
              "      <th>110</th>\n",
              "      <td>24.651575</td>\n",
              "      <td>24.648816</td>\n",
              "      <td>21.197684</td>\n",
              "    </tr>\n",
              "    <tr>\n",
              "      <th>120</th>\n",
              "      <td>31.388711</td>\n",
              "      <td>31.386044</td>\n",
              "      <td>26.913135</td>\n",
              "    </tr>\n",
              "    <tr>\n",
              "      <th>130</th>\n",
              "      <td>38.679269</td>\n",
              "      <td>38.676649</td>\n",
              "      <td>33.387212</td>\n",
              "    </tr>\n",
              "    <tr>\n",
              "      <th>140</th>\n",
              "      <td>46.430148</td>\n",
              "      <td>46.427352</td>\n",
              "      <td>40.589943</td>\n",
              "    </tr>\n",
              "  </tbody>\n",
              "</table>\n",
              "</div>\n",
              "      <button class=\"colab-df-convert\" onclick=\"convertToInteractive('df-4341d942-33ae-48a1-b3a1-618a09b0cf7f')\"\n",
              "              title=\"Convert this dataframe to an interactive table.\"\n",
              "              style=\"display:none;\">\n",
              "        \n",
              "  <svg xmlns=\"http://www.w3.org/2000/svg\" height=\"24px\"viewBox=\"0 0 24 24\"\n",
              "       width=\"24px\">\n",
              "    <path d=\"M0 0h24v24H0V0z\" fill=\"none\"/>\n",
              "    <path d=\"M18.56 5.44l.94 2.06.94-2.06 2.06-.94-2.06-.94-.94-2.06-.94 2.06-2.06.94zm-11 1L8.5 8.5l.94-2.06 2.06-.94-2.06-.94L8.5 2.5l-.94 2.06-2.06.94zm10 10l.94 2.06.94-2.06 2.06-.94-2.06-.94-.94-2.06-.94 2.06-2.06.94z\"/><path d=\"M17.41 7.96l-1.37-1.37c-.4-.4-.92-.59-1.43-.59-.52 0-1.04.2-1.43.59L10.3 9.45l-7.72 7.72c-.78.78-.78 2.05 0 2.83L4 21.41c.39.39.9.59 1.41.59.51 0 1.02-.2 1.41-.59l7.78-7.78 2.81-2.81c.8-.78.8-2.07 0-2.86zM5.41 20L4 18.59l7.72-7.72 1.47 1.35L5.41 20z\"/>\n",
              "  </svg>\n",
              "      </button>\n",
              "      \n",
              "  <style>\n",
              "    .colab-df-container {\n",
              "      display:flex;\n",
              "      flex-wrap:wrap;\n",
              "      gap: 12px;\n",
              "    }\n",
              "\n",
              "    .colab-df-convert {\n",
              "      background-color: #E8F0FE;\n",
              "      border: none;\n",
              "      border-radius: 50%;\n",
              "      cursor: pointer;\n",
              "      display: none;\n",
              "      fill: #1967D2;\n",
              "      height: 32px;\n",
              "      padding: 0 0 0 0;\n",
              "      width: 32px;\n",
              "    }\n",
              "\n",
              "    .colab-df-convert:hover {\n",
              "      background-color: #E2EBFA;\n",
              "      box-shadow: 0px 1px 2px rgba(60, 64, 67, 0.3), 0px 1px 3px 1px rgba(60, 64, 67, 0.15);\n",
              "      fill: #174EA6;\n",
              "    }\n",
              "\n",
              "    [theme=dark] .colab-df-convert {\n",
              "      background-color: #3B4455;\n",
              "      fill: #D2E3FC;\n",
              "    }\n",
              "\n",
              "    [theme=dark] .colab-df-convert:hover {\n",
              "      background-color: #434B5C;\n",
              "      box-shadow: 0px 1px 3px 1px rgba(0, 0, 0, 0.15);\n",
              "      filter: drop-shadow(0px 1px 2px rgba(0, 0, 0, 0.3));\n",
              "      fill: #FFFFFF;\n",
              "    }\n",
              "  </style>\n",
              "\n",
              "      <script>\n",
              "        const buttonEl =\n",
              "          document.querySelector('#df-4341d942-33ae-48a1-b3a1-618a09b0cf7f button.colab-df-convert');\n",
              "        buttonEl.style.display =\n",
              "          google.colab.kernel.accessAllowed ? 'block' : 'none';\n",
              "\n",
              "        async function convertToInteractive(key) {\n",
              "          const element = document.querySelector('#df-4341d942-33ae-48a1-b3a1-618a09b0cf7f');\n",
              "          const dataTable =\n",
              "            await google.colab.kernel.invokeFunction('convertToInteractive',\n",
              "                                                     [key], {});\n",
              "          if (!dataTable) return;\n",
              "\n",
              "          const docLinkHtml = 'Like what you see? Visit the ' +\n",
              "            '<a target=\"_blank\" href=https://colab.research.google.com/notebooks/data_table.ipynb>data table notebook</a>'\n",
              "            + ' to learn more about interactive tables.';\n",
              "          element.innerHTML = '';\n",
              "          dataTable['output_type'] = 'display_data';\n",
              "          await google.colab.output.renderOutput(dataTable, element);\n",
              "          const docLink = document.createElement('div');\n",
              "          docLink.innerHTML = docLinkHtml;\n",
              "          element.appendChild(docLink);\n",
              "        }\n",
              "      </script>\n",
              "    </div>\n",
              "  </div>\n",
              "  "
            ]
          },
          "metadata": {},
          "execution_count": 64
        }
      ]
    }
  ]
}